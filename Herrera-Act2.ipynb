{
 "cells": [
  {
   "cell_type": "markdown",
   "id": "6ae352ff-8ddb-47d1-85a3-4d761280dca4",
   "metadata": {},
   "source": [
    "<h1>Uk Road Accidents Data Analytics</h1>"
   ]
  },
  {
   "cell_type": "markdown",
   "id": "bac76b8a-1fc8-410e-88fb-1e34763c33b7",
   "metadata": {},
   "source": [
    "<h2>Herrera O. Herrera</h2>"
   ]
  },
  {
   "cell_type": "code",
   "execution_count": 1,
   "id": "1fe5cdd5-2da7-4357-a4d9-08b3b8c22258",
   "metadata": {},
   "outputs": [],
   "source": [
    "import numpy as np\n",
    "import pandas as pd\n",
    "import matplotlib.pyplot as plt\n",
    "import warnings\n",
    "warnings.filterwarnings('ignore')"
   ]
  },
  {
   "cell_type": "markdown",
   "id": "831addb9-3ad5-43cf-82e8-0777a488ea4a",
   "metadata": {},
   "source": [
    "<h2>Converting Dataset to to Frame</h2>"
   ]
  },
  {
   "cell_type": "code",
   "execution_count": 2,
   "id": "ac5bfbc9-4e0d-42dd-b90f-cc4858544043",
   "metadata": {},
   "outputs": [
    {
     "data": {
      "text/html": [
       "<div>\n",
       "<style scoped>\n",
       "    .dataframe tbody tr th:only-of-type {\n",
       "        vertical-align: middle;\n",
       "    }\n",
       "\n",
       "    .dataframe tbody tr th {\n",
       "        vertical-align: top;\n",
       "    }\n",
       "\n",
       "    .dataframe thead th {\n",
       "        text-align: right;\n",
       "    }\n",
       "</style>\n",
       "<table border=\"1\" class=\"dataframe\">\n",
       "  <thead>\n",
       "    <tr style=\"text-align: right;\">\n",
       "      <th></th>\n",
       "      <th>Index</th>\n",
       "      <th>Accident_Severity</th>\n",
       "      <th>Accident Date</th>\n",
       "      <th>Latitude</th>\n",
       "      <th>Light_Conditions</th>\n",
       "      <th>District Area</th>\n",
       "      <th>Longitude</th>\n",
       "      <th>Number_of_Casualties</th>\n",
       "      <th>Number_of_Vehicles</th>\n",
       "      <th>Road_Surface_Conditions</th>\n",
       "      <th>Road_Type</th>\n",
       "      <th>Urban_or_Rural_Area</th>\n",
       "      <th>Weather_Conditions</th>\n",
       "      <th>Vehicle_Type</th>\n",
       "    </tr>\n",
       "  </thead>\n",
       "  <tbody>\n",
       "    <tr>\n",
       "      <th>0</th>\n",
       "      <td>200701BS64157</td>\n",
       "      <td>Serious</td>\n",
       "      <td>5/6/2019</td>\n",
       "      <td>51.506187</td>\n",
       "      <td>Darkness - lights lit</td>\n",
       "      <td>Kensington and Chelsea</td>\n",
       "      <td>-0.209082</td>\n",
       "      <td>1</td>\n",
       "      <td>2</td>\n",
       "      <td>Dry</td>\n",
       "      <td>Single carriageway</td>\n",
       "      <td>Urban</td>\n",
       "      <td>Fine no high winds</td>\n",
       "      <td>Car</td>\n",
       "    </tr>\n",
       "    <tr>\n",
       "      <th>1</th>\n",
       "      <td>200701BS65737</td>\n",
       "      <td>Serious</td>\n",
       "      <td>2/7/2019</td>\n",
       "      <td>51.495029</td>\n",
       "      <td>Daylight</td>\n",
       "      <td>Kensington and Chelsea</td>\n",
       "      <td>-0.173647</td>\n",
       "      <td>1</td>\n",
       "      <td>2</td>\n",
       "      <td>Wet or damp</td>\n",
       "      <td>Single carriageway</td>\n",
       "      <td>Urban</td>\n",
       "      <td>Raining no high winds</td>\n",
       "      <td>Car</td>\n",
       "    </tr>\n",
       "    <tr>\n",
       "      <th>2</th>\n",
       "      <td>200701BS66127</td>\n",
       "      <td>Serious</td>\n",
       "      <td>26-08-2019</td>\n",
       "      <td>51.517715</td>\n",
       "      <td>Darkness - lighting unknown</td>\n",
       "      <td>Kensington and Chelsea</td>\n",
       "      <td>-0.210215</td>\n",
       "      <td>1</td>\n",
       "      <td>3</td>\n",
       "      <td>Dry</td>\n",
       "      <td>NaN</td>\n",
       "      <td>Urban</td>\n",
       "      <td>NaN</td>\n",
       "      <td>Taxi/Private hire car</td>\n",
       "    </tr>\n",
       "    <tr>\n",
       "      <th>3</th>\n",
       "      <td>200701BS66128</td>\n",
       "      <td>Serious</td>\n",
       "      <td>16-08-2019</td>\n",
       "      <td>51.495478</td>\n",
       "      <td>Daylight</td>\n",
       "      <td>Kensington and Chelsea</td>\n",
       "      <td>-0.202731</td>\n",
       "      <td>1</td>\n",
       "      <td>4</td>\n",
       "      <td>Dry</td>\n",
       "      <td>Single carriageway</td>\n",
       "      <td>Urban</td>\n",
       "      <td>Fine no high winds</td>\n",
       "      <td>Bus or coach (17 or more pass seats)</td>\n",
       "    </tr>\n",
       "    <tr>\n",
       "      <th>4</th>\n",
       "      <td>200701BS66837</td>\n",
       "      <td>Slight</td>\n",
       "      <td>3/9/2019</td>\n",
       "      <td>51.488576</td>\n",
       "      <td>Darkness - lights lit</td>\n",
       "      <td>Kensington and Chelsea</td>\n",
       "      <td>-0.192487</td>\n",
       "      <td>1</td>\n",
       "      <td>2</td>\n",
       "      <td>Dry</td>\n",
       "      <td>NaN</td>\n",
       "      <td>Urban</td>\n",
       "      <td>NaN</td>\n",
       "      <td>Other vehicle</td>\n",
       "    </tr>\n",
       "    <tr>\n",
       "      <th>...</th>\n",
       "      <td>...</td>\n",
       "      <td>...</td>\n",
       "      <td>...</td>\n",
       "      <td>...</td>\n",
       "      <td>...</td>\n",
       "      <td>...</td>\n",
       "      <td>...</td>\n",
       "      <td>...</td>\n",
       "      <td>...</td>\n",
       "      <td>...</td>\n",
       "      <td>...</td>\n",
       "      <td>...</td>\n",
       "      <td>...</td>\n",
       "      <td>...</td>\n",
       "    </tr>\n",
       "    <tr>\n",
       "      <th>660674</th>\n",
       "      <td>201091NM01760</td>\n",
       "      <td>Slight</td>\n",
       "      <td>18-02-2022</td>\n",
       "      <td>57.374005</td>\n",
       "      <td>Daylight</td>\n",
       "      <td>Highland</td>\n",
       "      <td>-3.467828</td>\n",
       "      <td>2</td>\n",
       "      <td>1</td>\n",
       "      <td>Dry</td>\n",
       "      <td>Single carriageway</td>\n",
       "      <td>Rural</td>\n",
       "      <td>Fine no high winds</td>\n",
       "      <td>Car</td>\n",
       "    </tr>\n",
       "    <tr>\n",
       "      <th>660675</th>\n",
       "      <td>201091NM01881</td>\n",
       "      <td>Slight</td>\n",
       "      <td>21-02-2022</td>\n",
       "      <td>57.232273</td>\n",
       "      <td>Darkness - no lighting</td>\n",
       "      <td>Highland</td>\n",
       "      <td>-3.809281</td>\n",
       "      <td>1</td>\n",
       "      <td>1</td>\n",
       "      <td>Frost or ice</td>\n",
       "      <td>Single carriageway</td>\n",
       "      <td>Rural</td>\n",
       "      <td>Fine no high winds</td>\n",
       "      <td>Car</td>\n",
       "    </tr>\n",
       "    <tr>\n",
       "      <th>660676</th>\n",
       "      <td>201091NM01935</td>\n",
       "      <td>Slight</td>\n",
       "      <td>23-02-2022</td>\n",
       "      <td>57.585044</td>\n",
       "      <td>Daylight</td>\n",
       "      <td>Highland</td>\n",
       "      <td>-3.862727</td>\n",
       "      <td>1</td>\n",
       "      <td>3</td>\n",
       "      <td>Frost or ice</td>\n",
       "      <td>Single carriageway</td>\n",
       "      <td>Rural</td>\n",
       "      <td>Fine no high winds</td>\n",
       "      <td>Car</td>\n",
       "    </tr>\n",
       "    <tr>\n",
       "      <th>660677</th>\n",
       "      <td>201091NM01964</td>\n",
       "      <td>Serious</td>\n",
       "      <td>23-02-2022</td>\n",
       "      <td>57.214898</td>\n",
       "      <td>Darkness - no lighting</td>\n",
       "      <td>Highland</td>\n",
       "      <td>-3.823997</td>\n",
       "      <td>1</td>\n",
       "      <td>2</td>\n",
       "      <td>Wet or damp</td>\n",
       "      <td>Single carriageway</td>\n",
       "      <td>Rural</td>\n",
       "      <td>Fine no high winds</td>\n",
       "      <td>Motorcycle over 500cc</td>\n",
       "    </tr>\n",
       "    <tr>\n",
       "      <th>660678</th>\n",
       "      <td>201091NM02142</td>\n",
       "      <td>Serious</td>\n",
       "      <td>28-02-2022</td>\n",
       "      <td>57.575210</td>\n",
       "      <td>Daylight</td>\n",
       "      <td>Highland</td>\n",
       "      <td>-3.895673</td>\n",
       "      <td>1</td>\n",
       "      <td>1</td>\n",
       "      <td>Wet or damp</td>\n",
       "      <td>Dual carriageway</td>\n",
       "      <td>Rural</td>\n",
       "      <td>Snowing no high winds</td>\n",
       "      <td>Car</td>\n",
       "    </tr>\n",
       "  </tbody>\n",
       "</table>\n",
       "<p>660679 rows × 14 columns</p>\n",
       "</div>"
      ],
      "text/plain": [
       "                Index Accident_Severity Accident Date   Latitude  \\\n",
       "0       200701BS64157           Serious      5/6/2019  51.506187   \n",
       "1       200701BS65737           Serious      2/7/2019  51.495029   \n",
       "2       200701BS66127           Serious    26-08-2019  51.517715   \n",
       "3       200701BS66128           Serious    16-08-2019  51.495478   \n",
       "4       200701BS66837            Slight      3/9/2019  51.488576   \n",
       "...               ...               ...           ...        ...   \n",
       "660674  201091NM01760            Slight    18-02-2022  57.374005   \n",
       "660675  201091NM01881            Slight    21-02-2022  57.232273   \n",
       "660676  201091NM01935            Slight    23-02-2022  57.585044   \n",
       "660677  201091NM01964           Serious    23-02-2022  57.214898   \n",
       "660678  201091NM02142           Serious    28-02-2022  57.575210   \n",
       "\n",
       "                   Light_Conditions           District Area  Longitude  \\\n",
       "0             Darkness - lights lit  Kensington and Chelsea  -0.209082   \n",
       "1                          Daylight  Kensington and Chelsea  -0.173647   \n",
       "2       Darkness - lighting unknown  Kensington and Chelsea  -0.210215   \n",
       "3                          Daylight  Kensington and Chelsea  -0.202731   \n",
       "4             Darkness - lights lit  Kensington and Chelsea  -0.192487   \n",
       "...                             ...                     ...        ...   \n",
       "660674                     Daylight                Highland  -3.467828   \n",
       "660675       Darkness - no lighting                Highland  -3.809281   \n",
       "660676                     Daylight                Highland  -3.862727   \n",
       "660677       Darkness - no lighting                Highland  -3.823997   \n",
       "660678                     Daylight                Highland  -3.895673   \n",
       "\n",
       "        Number_of_Casualties  Number_of_Vehicles Road_Surface_Conditions  \\\n",
       "0                          1                   2                     Dry   \n",
       "1                          1                   2             Wet or damp   \n",
       "2                          1                   3                     Dry   \n",
       "3                          1                   4                     Dry   \n",
       "4                          1                   2                     Dry   \n",
       "...                      ...                 ...                     ...   \n",
       "660674                     2                   1                     Dry   \n",
       "660675                     1                   1            Frost or ice   \n",
       "660676                     1                   3            Frost or ice   \n",
       "660677                     1                   2             Wet or damp   \n",
       "660678                     1                   1             Wet or damp   \n",
       "\n",
       "                 Road_Type Urban_or_Rural_Area     Weather_Conditions  \\\n",
       "0       Single carriageway               Urban     Fine no high winds   \n",
       "1       Single carriageway               Urban  Raining no high winds   \n",
       "2                      NaN               Urban                    NaN   \n",
       "3       Single carriageway               Urban     Fine no high winds   \n",
       "4                      NaN               Urban                    NaN   \n",
       "...                    ...                 ...                    ...   \n",
       "660674  Single carriageway               Rural     Fine no high winds   \n",
       "660675  Single carriageway               Rural     Fine no high winds   \n",
       "660676  Single carriageway               Rural     Fine no high winds   \n",
       "660677  Single carriageway               Rural     Fine no high winds   \n",
       "660678    Dual carriageway               Rural  Snowing no high winds   \n",
       "\n",
       "                                Vehicle_Type  \n",
       "0                                        Car  \n",
       "1                                        Car  \n",
       "2                      Taxi/Private hire car  \n",
       "3       Bus or coach (17 or more pass seats)  \n",
       "4                              Other vehicle  \n",
       "...                                      ...  \n",
       "660674                                   Car  \n",
       "660675                                   Car  \n",
       "660676                                   Car  \n",
       "660677                 Motorcycle over 500cc  \n",
       "660678                                   Car  \n",
       "\n",
       "[660679 rows x 14 columns]"
      ]
     },
     "execution_count": 2,
     "metadata": {},
     "output_type": "execute_result"
    }
   ],
   "source": [
    "accidents = pd.read_csv('uk_road_accident.csv')\n",
    "accidents"
   ]
  },
  {
   "cell_type": "markdown",
   "id": "fce3f92d-a0f1-4429-90ef-0f662d62f22a",
   "metadata": {},
   "source": [
    "<h2>Check Descriptive Statistics</h2>"
   ]
  },
  {
   "cell_type": "code",
   "execution_count": 3,
   "id": "ff1bbd22-928e-414d-b19c-3c8c05b98435",
   "metadata": {},
   "outputs": [
    {
     "data": {
      "text/html": [
       "<div>\n",
       "<style scoped>\n",
       "    .dataframe tbody tr th:only-of-type {\n",
       "        vertical-align: middle;\n",
       "    }\n",
       "\n",
       "    .dataframe tbody tr th {\n",
       "        vertical-align: top;\n",
       "    }\n",
       "\n",
       "    .dataframe thead th {\n",
       "        text-align: right;\n",
       "    }\n",
       "</style>\n",
       "<table border=\"1\" class=\"dataframe\">\n",
       "  <thead>\n",
       "    <tr style=\"text-align: right;\">\n",
       "      <th></th>\n",
       "      <th>Latitude</th>\n",
       "      <th>Longitude</th>\n",
       "      <th>Number_of_Casualties</th>\n",
       "      <th>Number_of_Vehicles</th>\n",
       "    </tr>\n",
       "  </thead>\n",
       "  <tbody>\n",
       "    <tr>\n",
       "      <th>count</th>\n",
       "      <td>660654.000000</td>\n",
       "      <td>660653.000000</td>\n",
       "      <td>660679.000000</td>\n",
       "      <td>660679.000000</td>\n",
       "    </tr>\n",
       "    <tr>\n",
       "      <th>mean</th>\n",
       "      <td>52.553866</td>\n",
       "      <td>-1.431210</td>\n",
       "      <td>1.357040</td>\n",
       "      <td>1.831255</td>\n",
       "    </tr>\n",
       "    <tr>\n",
       "      <th>std</th>\n",
       "      <td>1.406922</td>\n",
       "      <td>1.383330</td>\n",
       "      <td>0.824847</td>\n",
       "      <td>0.715269</td>\n",
       "    </tr>\n",
       "    <tr>\n",
       "      <th>min</th>\n",
       "      <td>49.914430</td>\n",
       "      <td>-7.516225</td>\n",
       "      <td>1.000000</td>\n",
       "      <td>1.000000</td>\n",
       "    </tr>\n",
       "    <tr>\n",
       "      <th>25%</th>\n",
       "      <td>51.490690</td>\n",
       "      <td>-2.332291</td>\n",
       "      <td>1.000000</td>\n",
       "      <td>1.000000</td>\n",
       "    </tr>\n",
       "    <tr>\n",
       "      <th>50%</th>\n",
       "      <td>52.315641</td>\n",
       "      <td>-1.411667</td>\n",
       "      <td>1.000000</td>\n",
       "      <td>2.000000</td>\n",
       "    </tr>\n",
       "    <tr>\n",
       "      <th>75%</th>\n",
       "      <td>53.453452</td>\n",
       "      <td>-0.232869</td>\n",
       "      <td>1.000000</td>\n",
       "      <td>2.000000</td>\n",
       "    </tr>\n",
       "    <tr>\n",
       "      <th>max</th>\n",
       "      <td>60.757544</td>\n",
       "      <td>1.762010</td>\n",
       "      <td>68.000000</td>\n",
       "      <td>32.000000</td>\n",
       "    </tr>\n",
       "  </tbody>\n",
       "</table>\n",
       "</div>"
      ],
      "text/plain": [
       "            Latitude      Longitude  Number_of_Casualties  Number_of_Vehicles\n",
       "count  660654.000000  660653.000000         660679.000000       660679.000000\n",
       "mean       52.553866      -1.431210              1.357040            1.831255\n",
       "std         1.406922       1.383330              0.824847            0.715269\n",
       "min        49.914430      -7.516225              1.000000            1.000000\n",
       "25%        51.490690      -2.332291              1.000000            1.000000\n",
       "50%        52.315641      -1.411667              1.000000            2.000000\n",
       "75%        53.453452      -0.232869              1.000000            2.000000\n",
       "max        60.757544       1.762010             68.000000           32.000000"
      ]
     },
     "execution_count": 3,
     "metadata": {},
     "output_type": "execute_result"
    }
   ],
   "source": [
    "accidents.describe()"
   ]
  },
  {
   "cell_type": "code",
   "execution_count": 4,
   "id": "3d47fbe7-7e72-44fe-8d22-b1251c5da17f",
   "metadata": {},
   "outputs": [
    {
     "data": {
      "text/html": [
       "<div>\n",
       "<style scoped>\n",
       "    .dataframe tbody tr th:only-of-type {\n",
       "        vertical-align: middle;\n",
       "    }\n",
       "\n",
       "    .dataframe tbody tr th {\n",
       "        vertical-align: top;\n",
       "    }\n",
       "\n",
       "    .dataframe thead th {\n",
       "        text-align: right;\n",
       "    }\n",
       "</style>\n",
       "<table border=\"1\" class=\"dataframe\">\n",
       "  <thead>\n",
       "    <tr style=\"text-align: right;\">\n",
       "      <th></th>\n",
       "      <th>count</th>\n",
       "      <th>mean</th>\n",
       "      <th>std</th>\n",
       "      <th>min</th>\n",
       "      <th>25%</th>\n",
       "      <th>50%</th>\n",
       "      <th>75%</th>\n",
       "      <th>max</th>\n",
       "    </tr>\n",
       "  </thead>\n",
       "  <tbody>\n",
       "    <tr>\n",
       "      <th>Latitude</th>\n",
       "      <td>660654.0</td>\n",
       "      <td>52.553866</td>\n",
       "      <td>1.406922</td>\n",
       "      <td>49.914430</td>\n",
       "      <td>51.490690</td>\n",
       "      <td>52.315641</td>\n",
       "      <td>53.453452</td>\n",
       "      <td>60.757544</td>\n",
       "    </tr>\n",
       "    <tr>\n",
       "      <th>Longitude</th>\n",
       "      <td>660653.0</td>\n",
       "      <td>-1.431210</td>\n",
       "      <td>1.383330</td>\n",
       "      <td>-7.516225</td>\n",
       "      <td>-2.332291</td>\n",
       "      <td>-1.411667</td>\n",
       "      <td>-0.232869</td>\n",
       "      <td>1.762010</td>\n",
       "    </tr>\n",
       "    <tr>\n",
       "      <th>Number_of_Casualties</th>\n",
       "      <td>660679.0</td>\n",
       "      <td>1.357040</td>\n",
       "      <td>0.824847</td>\n",
       "      <td>1.000000</td>\n",
       "      <td>1.000000</td>\n",
       "      <td>1.000000</td>\n",
       "      <td>1.000000</td>\n",
       "      <td>68.000000</td>\n",
       "    </tr>\n",
       "    <tr>\n",
       "      <th>Number_of_Vehicles</th>\n",
       "      <td>660679.0</td>\n",
       "      <td>1.831255</td>\n",
       "      <td>0.715269</td>\n",
       "      <td>1.000000</td>\n",
       "      <td>1.000000</td>\n",
       "      <td>2.000000</td>\n",
       "      <td>2.000000</td>\n",
       "      <td>32.000000</td>\n",
       "    </tr>\n",
       "  </tbody>\n",
       "</table>\n",
       "</div>"
      ],
      "text/plain": [
       "                         count       mean       std        min        25%  \\\n",
       "Latitude              660654.0  52.553866  1.406922  49.914430  51.490690   \n",
       "Longitude             660653.0  -1.431210  1.383330  -7.516225  -2.332291   \n",
       "Number_of_Casualties  660679.0   1.357040  0.824847   1.000000   1.000000   \n",
       "Number_of_Vehicles    660679.0   1.831255  0.715269   1.000000   1.000000   \n",
       "\n",
       "                            50%        75%        max  \n",
       "Latitude              52.315641  53.453452  60.757544  \n",
       "Longitude             -1.411667  -0.232869   1.762010  \n",
       "Number_of_Casualties   1.000000   1.000000  68.000000  \n",
       "Number_of_Vehicles     2.000000   2.000000  32.000000  "
      ]
     },
     "execution_count": 4,
     "metadata": {},
     "output_type": "execute_result"
    }
   ],
   "source": [
    "accidents.describe().T"
   ]
  },
  {
   "cell_type": "code",
   "execution_count": 5,
   "id": "3c266869-1576-4c3d-b3bc-ee8fbce13445",
   "metadata": {},
   "outputs": [
    {
     "name": "stdout",
     "output_type": "stream",
     "text": [
      "<class 'pandas.core.frame.DataFrame'>\n",
      "RangeIndex: 660679 entries, 0 to 660678\n",
      "Data columns (total 14 columns):\n",
      " #   Column                   Non-Null Count   Dtype  \n",
      "---  ------                   --------------   -----  \n",
      " 0   Index                    660679 non-null  object \n",
      " 1   Accident_Severity        660679 non-null  object \n",
      " 2   Accident Date            660679 non-null  object \n",
      " 3   Latitude                 660654 non-null  float64\n",
      " 4   Light_Conditions         660679 non-null  object \n",
      " 5   District Area            660679 non-null  object \n",
      " 6   Longitude                660653 non-null  float64\n",
      " 7   Number_of_Casualties     660679 non-null  int64  \n",
      " 8   Number_of_Vehicles       660679 non-null  int64  \n",
      " 9   Road_Surface_Conditions  659953 non-null  object \n",
      " 10  Road_Type                656159 non-null  object \n",
      " 11  Urban_or_Rural_Area      660664 non-null  object \n",
      " 12  Weather_Conditions       646551 non-null  object \n",
      " 13  Vehicle_Type             660679 non-null  object \n",
      "dtypes: float64(2), int64(2), object(10)\n",
      "memory usage: 70.6+ MB\n"
     ]
    }
   ],
   "source": [
    "accidents.info()"
   ]
  },
  {
   "cell_type": "markdown",
   "id": "24a1cb36-6c3e-4f17-84b8-76c0fd830b36",
   "metadata": {},
   "source": [
    "<h2>Call each Column Individually"
   ]
  },
  {
   "cell_type": "code",
   "execution_count": 6,
   "id": "65d50d42-aefb-4ea8-8add-c5a8353b4a12",
   "metadata": {},
   "outputs": [
    {
     "data": {
      "text/plain": [
       "0         200701BS64157\n",
       "1         200701BS65737\n",
       "2         200701BS66127\n",
       "3         200701BS66128\n",
       "4         200701BS66837\n",
       "              ...      \n",
       "660674    201091NM01760\n",
       "660675    201091NM01881\n",
       "660676    201091NM01935\n",
       "660677    201091NM01964\n",
       "660678    201091NM02142\n",
       "Name: Index, Length: 660679, dtype: object"
      ]
     },
     "execution_count": 6,
     "metadata": {},
     "output_type": "execute_result"
    }
   ],
   "source": [
    "accidents['Index']"
   ]
  },
  {
   "cell_type": "code",
   "execution_count": 7,
   "id": "3062a2f9-1f6b-471e-b6f0-85b6e732874f",
   "metadata": {},
   "outputs": [
    {
     "data": {
      "text/plain": [
       "0         Serious\n",
       "1         Serious\n",
       "2         Serious\n",
       "3         Serious\n",
       "4          Slight\n",
       "           ...   \n",
       "660674     Slight\n",
       "660675     Slight\n",
       "660676     Slight\n",
       "660677    Serious\n",
       "660678    Serious\n",
       "Name: Accident_Severity, Length: 660679, dtype: object"
      ]
     },
     "execution_count": 7,
     "metadata": {},
     "output_type": "execute_result"
    }
   ],
   "source": [
    "accidents['Accident_Severity']"
   ]
  },
  {
   "cell_type": "code",
   "execution_count": 8,
   "id": "2f021638-952b-4761-8b89-1092297b9797",
   "metadata": {},
   "outputs": [
    {
     "data": {
      "text/plain": [
       "0         51.506187\n",
       "1         51.495029\n",
       "2         51.517715\n",
       "3         51.495478\n",
       "4         51.488576\n",
       "            ...    \n",
       "660674    57.374005\n",
       "660675    57.232273\n",
       "660676    57.585044\n",
       "660677    57.214898\n",
       "660678    57.575210\n",
       "Name: Latitude, Length: 660679, dtype: float64"
      ]
     },
     "execution_count": 8,
     "metadata": {},
     "output_type": "execute_result"
    }
   ],
   "source": [
    "accidents['Latitude']"
   ]
  },
  {
   "cell_type": "code",
   "execution_count": 9,
   "id": "0c96479f-070a-41a7-8a40-b8f4653561ab",
   "metadata": {},
   "outputs": [
    {
     "data": {
      "text/plain": [
       "0               Darkness - lights lit\n",
       "1                            Daylight\n",
       "2         Darkness - lighting unknown\n",
       "3                            Daylight\n",
       "4               Darkness - lights lit\n",
       "                     ...             \n",
       "660674                       Daylight\n",
       "660675         Darkness - no lighting\n",
       "660676                       Daylight\n",
       "660677         Darkness - no lighting\n",
       "660678                       Daylight\n",
       "Name: Light_Conditions, Length: 660679, dtype: object"
      ]
     },
     "execution_count": 9,
     "metadata": {},
     "output_type": "execute_result"
    }
   ],
   "source": [
    "accidents['Light_Conditions']"
   ]
  },
  {
   "cell_type": "code",
   "execution_count": 10,
   "id": "0e9ae174-c409-4dcd-b3a4-b586daaf72ba",
   "metadata": {},
   "outputs": [
    {
     "data": {
      "text/plain": [
       "0         Kensington and Chelsea\n",
       "1         Kensington and Chelsea\n",
       "2         Kensington and Chelsea\n",
       "3         Kensington and Chelsea\n",
       "4         Kensington and Chelsea\n",
       "                   ...          \n",
       "660674                  Highland\n",
       "660675                  Highland\n",
       "660676                  Highland\n",
       "660677                  Highland\n",
       "660678                  Highland\n",
       "Name: District Area, Length: 660679, dtype: object"
      ]
     },
     "execution_count": 10,
     "metadata": {},
     "output_type": "execute_result"
    }
   ],
   "source": [
    "accidents['District Area']"
   ]
  },
  {
   "cell_type": "code",
   "execution_count": 11,
   "id": "c391bdde-86f3-4104-831f-e90f0bea48cf",
   "metadata": {},
   "outputs": [
    {
     "data": {
      "text/html": [
       "<div>\n",
       "<style scoped>\n",
       "    .dataframe tbody tr th:only-of-type {\n",
       "        vertical-align: middle;\n",
       "    }\n",
       "\n",
       "    .dataframe tbody tr th {\n",
       "        vertical-align: top;\n",
       "    }\n",
       "\n",
       "    .dataframe thead th {\n",
       "        text-align: right;\n",
       "    }\n",
       "</style>\n",
       "<table border=\"1\" class=\"dataframe\">\n",
       "  <thead>\n",
       "    <tr style=\"text-align: right;\">\n",
       "      <th></th>\n",
       "      <th>Index</th>\n",
       "      <th>Accident_Severity</th>\n",
       "      <th>Accident Date</th>\n",
       "      <th>Latitude</th>\n",
       "      <th>Light_Conditions</th>\n",
       "      <th>District Area</th>\n",
       "      <th>Longitude</th>\n",
       "      <th>Number_of_Casualties</th>\n",
       "      <th>Number_of_Vehicles</th>\n",
       "      <th>Road_Surface_Conditions</th>\n",
       "      <th>Road_Type</th>\n",
       "      <th>Urban_or_Rural_Area</th>\n",
       "      <th>Weather_Conditions</th>\n",
       "      <th>Vehicle_Type</th>\n",
       "    </tr>\n",
       "  </thead>\n",
       "  <tbody>\n",
       "    <tr>\n",
       "      <th>0</th>\n",
       "      <td>False</td>\n",
       "      <td>False</td>\n",
       "      <td>False</td>\n",
       "      <td>False</td>\n",
       "      <td>False</td>\n",
       "      <td>False</td>\n",
       "      <td>False</td>\n",
       "      <td>False</td>\n",
       "      <td>False</td>\n",
       "      <td>False</td>\n",
       "      <td>False</td>\n",
       "      <td>False</td>\n",
       "      <td>False</td>\n",
       "      <td>False</td>\n",
       "    </tr>\n",
       "    <tr>\n",
       "      <th>1</th>\n",
       "      <td>False</td>\n",
       "      <td>False</td>\n",
       "      <td>False</td>\n",
       "      <td>False</td>\n",
       "      <td>False</td>\n",
       "      <td>False</td>\n",
       "      <td>False</td>\n",
       "      <td>False</td>\n",
       "      <td>False</td>\n",
       "      <td>False</td>\n",
       "      <td>False</td>\n",
       "      <td>False</td>\n",
       "      <td>False</td>\n",
       "      <td>False</td>\n",
       "    </tr>\n",
       "    <tr>\n",
       "      <th>2</th>\n",
       "      <td>False</td>\n",
       "      <td>False</td>\n",
       "      <td>False</td>\n",
       "      <td>False</td>\n",
       "      <td>False</td>\n",
       "      <td>False</td>\n",
       "      <td>False</td>\n",
       "      <td>False</td>\n",
       "      <td>False</td>\n",
       "      <td>False</td>\n",
       "      <td>True</td>\n",
       "      <td>False</td>\n",
       "      <td>True</td>\n",
       "      <td>False</td>\n",
       "    </tr>\n",
       "    <tr>\n",
       "      <th>3</th>\n",
       "      <td>False</td>\n",
       "      <td>False</td>\n",
       "      <td>False</td>\n",
       "      <td>False</td>\n",
       "      <td>False</td>\n",
       "      <td>False</td>\n",
       "      <td>False</td>\n",
       "      <td>False</td>\n",
       "      <td>False</td>\n",
       "      <td>False</td>\n",
       "      <td>False</td>\n",
       "      <td>False</td>\n",
       "      <td>False</td>\n",
       "      <td>False</td>\n",
       "    </tr>\n",
       "    <tr>\n",
       "      <th>4</th>\n",
       "      <td>False</td>\n",
       "      <td>False</td>\n",
       "      <td>False</td>\n",
       "      <td>False</td>\n",
       "      <td>False</td>\n",
       "      <td>False</td>\n",
       "      <td>False</td>\n",
       "      <td>False</td>\n",
       "      <td>False</td>\n",
       "      <td>False</td>\n",
       "      <td>True</td>\n",
       "      <td>False</td>\n",
       "      <td>True</td>\n",
       "      <td>False</td>\n",
       "    </tr>\n",
       "    <tr>\n",
       "      <th>...</th>\n",
       "      <td>...</td>\n",
       "      <td>...</td>\n",
       "      <td>...</td>\n",
       "      <td>...</td>\n",
       "      <td>...</td>\n",
       "      <td>...</td>\n",
       "      <td>...</td>\n",
       "      <td>...</td>\n",
       "      <td>...</td>\n",
       "      <td>...</td>\n",
       "      <td>...</td>\n",
       "      <td>...</td>\n",
       "      <td>...</td>\n",
       "      <td>...</td>\n",
       "    </tr>\n",
       "    <tr>\n",
       "      <th>660674</th>\n",
       "      <td>False</td>\n",
       "      <td>False</td>\n",
       "      <td>False</td>\n",
       "      <td>False</td>\n",
       "      <td>False</td>\n",
       "      <td>False</td>\n",
       "      <td>False</td>\n",
       "      <td>False</td>\n",
       "      <td>False</td>\n",
       "      <td>False</td>\n",
       "      <td>False</td>\n",
       "      <td>False</td>\n",
       "      <td>False</td>\n",
       "      <td>False</td>\n",
       "    </tr>\n",
       "    <tr>\n",
       "      <th>660675</th>\n",
       "      <td>False</td>\n",
       "      <td>False</td>\n",
       "      <td>False</td>\n",
       "      <td>False</td>\n",
       "      <td>False</td>\n",
       "      <td>False</td>\n",
       "      <td>False</td>\n",
       "      <td>False</td>\n",
       "      <td>False</td>\n",
       "      <td>False</td>\n",
       "      <td>False</td>\n",
       "      <td>False</td>\n",
       "      <td>False</td>\n",
       "      <td>False</td>\n",
       "    </tr>\n",
       "    <tr>\n",
       "      <th>660676</th>\n",
       "      <td>False</td>\n",
       "      <td>False</td>\n",
       "      <td>False</td>\n",
       "      <td>False</td>\n",
       "      <td>False</td>\n",
       "      <td>False</td>\n",
       "      <td>False</td>\n",
       "      <td>False</td>\n",
       "      <td>False</td>\n",
       "      <td>False</td>\n",
       "      <td>False</td>\n",
       "      <td>False</td>\n",
       "      <td>False</td>\n",
       "      <td>False</td>\n",
       "    </tr>\n",
       "    <tr>\n",
       "      <th>660677</th>\n",
       "      <td>False</td>\n",
       "      <td>False</td>\n",
       "      <td>False</td>\n",
       "      <td>False</td>\n",
       "      <td>False</td>\n",
       "      <td>False</td>\n",
       "      <td>False</td>\n",
       "      <td>False</td>\n",
       "      <td>False</td>\n",
       "      <td>False</td>\n",
       "      <td>False</td>\n",
       "      <td>False</td>\n",
       "      <td>False</td>\n",
       "      <td>False</td>\n",
       "    </tr>\n",
       "    <tr>\n",
       "      <th>660678</th>\n",
       "      <td>False</td>\n",
       "      <td>False</td>\n",
       "      <td>False</td>\n",
       "      <td>False</td>\n",
       "      <td>False</td>\n",
       "      <td>False</td>\n",
       "      <td>False</td>\n",
       "      <td>False</td>\n",
       "      <td>False</td>\n",
       "      <td>False</td>\n",
       "      <td>False</td>\n",
       "      <td>False</td>\n",
       "      <td>False</td>\n",
       "      <td>False</td>\n",
       "    </tr>\n",
       "  </tbody>\n",
       "</table>\n",
       "<p>660679 rows × 14 columns</p>\n",
       "</div>"
      ],
      "text/plain": [
       "        Index  Accident_Severity  Accident Date  Latitude  Light_Conditions  \\\n",
       "0       False              False          False     False             False   \n",
       "1       False              False          False     False             False   \n",
       "2       False              False          False     False             False   \n",
       "3       False              False          False     False             False   \n",
       "4       False              False          False     False             False   \n",
       "...       ...                ...            ...       ...               ...   \n",
       "660674  False              False          False     False             False   \n",
       "660675  False              False          False     False             False   \n",
       "660676  False              False          False     False             False   \n",
       "660677  False              False          False     False             False   \n",
       "660678  False              False          False     False             False   \n",
       "\n",
       "        District Area  Longitude  Number_of_Casualties  Number_of_Vehicles  \\\n",
       "0               False      False                 False               False   \n",
       "1               False      False                 False               False   \n",
       "2               False      False                 False               False   \n",
       "3               False      False                 False               False   \n",
       "4               False      False                 False               False   \n",
       "...               ...        ...                   ...                 ...   \n",
       "660674          False      False                 False               False   \n",
       "660675          False      False                 False               False   \n",
       "660676          False      False                 False               False   \n",
       "660677          False      False                 False               False   \n",
       "660678          False      False                 False               False   \n",
       "\n",
       "        Road_Surface_Conditions  Road_Type  Urban_or_Rural_Area  \\\n",
       "0                         False      False                False   \n",
       "1                         False      False                False   \n",
       "2                         False       True                False   \n",
       "3                         False      False                False   \n",
       "4                         False       True                False   \n",
       "...                         ...        ...                  ...   \n",
       "660674                    False      False                False   \n",
       "660675                    False      False                False   \n",
       "660676                    False      False                False   \n",
       "660677                    False      False                False   \n",
       "660678                    False      False                False   \n",
       "\n",
       "        Weather_Conditions  Vehicle_Type  \n",
       "0                    False         False  \n",
       "1                    False         False  \n",
       "2                     True         False  \n",
       "3                    False         False  \n",
       "4                     True         False  \n",
       "...                    ...           ...  \n",
       "660674               False         False  \n",
       "660675               False         False  \n",
       "660676               False         False  \n",
       "660677               False         False  \n",
       "660678               False         False  \n",
       "\n",
       "[660679 rows x 14 columns]"
      ]
     },
     "execution_count": 11,
     "metadata": {},
     "output_type": "execute_result"
    }
   ],
   "source": [
    "accidents.isnull()"
   ]
  },
  {
   "cell_type": "code",
   "execution_count": 12,
   "id": "d93a5007-1193-427b-a495-4820e2575a31",
   "metadata": {},
   "outputs": [
    {
     "data": {
      "text/plain": [
       "0         1\n",
       "1         1\n",
       "2         1\n",
       "3         1\n",
       "4         1\n",
       "         ..\n",
       "660674    2\n",
       "660675    1\n",
       "660676    1\n",
       "660677    1\n",
       "660678    1\n",
       "Name: Number_of_Casualties, Length: 660679, dtype: int64"
      ]
     },
     "execution_count": 12,
     "metadata": {},
     "output_type": "execute_result"
    }
   ],
   "source": [
    "accidents[\"Accident_Severity\"]\n",
    "accidents[\"Number_of_Casualties\"]"
   ]
  },
  {
   "cell_type": "code",
   "execution_count": 13,
   "id": "edde1aa4-1c58-4fe0-9b6b-1e326dc46b47",
   "metadata": {},
   "outputs": [
    {
     "data": {
      "text/plain": [
       "Index                          0\n",
       "Accident_Severity              0\n",
       "Accident Date                  0\n",
       "Latitude                      25\n",
       "Light_Conditions               0\n",
       "District Area                  0\n",
       "Longitude                     26\n",
       "Number_of_Casualties           0\n",
       "Number_of_Vehicles             0\n",
       "Road_Surface_Conditions      726\n",
       "Road_Type                   4520\n",
       "Urban_or_Rural_Area           15\n",
       "Weather_Conditions         14128\n",
       "Vehicle_Type                   0\n",
       "dtype: int64"
      ]
     },
     "execution_count": 13,
     "metadata": {},
     "output_type": "execute_result"
    }
   ],
   "source": [
    "accidents.isnull().sum()"
   ]
  },
  {
   "cell_type": "code",
   "execution_count": 14,
   "id": "fd247ab5-b0ca-4032-8f87-ed5ee4a4887c",
   "metadata": {},
   "outputs": [
    {
     "data": {
      "text/plain": [
       "Index                          0\n",
       "Accident_Severity              0\n",
       "Accident Date                  0\n",
       "Latitude                      25\n",
       "Light_Conditions               0\n",
       "District Area                  0\n",
       "Longitude                     26\n",
       "Number_of_Casualties           0\n",
       "Number_of_Vehicles             0\n",
       "Road_Surface_Conditions      726\n",
       "Road_Type                   4520\n",
       "Urban_or_Rural_Area           15\n",
       "Weather_Conditions         14128\n",
       "Vehicle_Type                   0\n",
       "dtype: int64"
      ]
     },
     "execution_count": 14,
     "metadata": {},
     "output_type": "execute_result"
    }
   ],
   "source": [
    "accidents.isnull().sum()"
   ]
  },
  {
   "cell_type": "markdown",
   "id": "162b3915-ea00-4350-8309-5bb29e5e34c0",
   "metadata": {},
   "source": [
    "<h2>Check for null Values</h2>"
   ]
  },
  {
   "cell_type": "code",
   "execution_count": 15,
   "id": "8053930f-eae2-4532-827e-741787786e41",
   "metadata": {},
   "outputs": [
    {
     "data": {
      "text/plain": [
       "Index                          0\n",
       "Accident_Severity              0\n",
       "Accident Date                  0\n",
       "Latitude                      25\n",
       "Light_Conditions               0\n",
       "District Area                  0\n",
       "Longitude                     26\n",
       "Number_of_Casualties           0\n",
       "Number_of_Vehicles             0\n",
       "Road_Surface_Conditions      726\n",
       "Road_Type                   4520\n",
       "Urban_or_Rural_Area           15\n",
       "Weather_Conditions         14128\n",
       "Vehicle_Type                   0\n",
       "dtype: int64"
      ]
     },
     "execution_count": 15,
     "metadata": {},
     "output_type": "execute_result"
    }
   ],
   "source": [
    "accidents.isnull().sum()"
   ]
  },
  {
   "cell_type": "markdown",
   "id": "e45d0a6e-d5aa-415c-9634-58b2cd9d15c1",
   "metadata": {},
   "source": [
    "<h2>Fill Null Values With Statistical Values</h2>"
   ]
  },
  {
   "cell_type": "code",
   "execution_count": 16,
   "id": "1bb4ab61-5abe-415f-a4a7-5ac2d6cbf080",
   "metadata": {},
   "outputs": [],
   "source": [
    "accidents['Accident_Severity'] = accidents['Accident_Severity'].fillna(accidents['Accident_Severity'].mode()[0])\n",
    "accidents['Light_Conditions'] = accidents['Light_Conditions'].fillna(accidents['Light_Conditions'].mode()[0])\n",
    "accidents['Road_Surface_Conditions'] = accidents['Road_Surface_Conditions'].fillna(accidents['Road_Surface_Conditions'].mode()[0])\n",
    "accidents['Number_of_Casualties'] = accidents['Number_of_Casualties'].fillna(accidents['Number_of_Casualties'].median())\n",
    "accidents['Number_of_Vehicles'] = accidents['Number_of_Vehicles'].fillna(accidents['Number_of_Vehicles'].median())\n",
    "accidents['District Area'] = accidents['District Area'].fillna(accidents['District Area'].mode()[0])"
   ]
  },
  {
   "cell_type": "code",
   "execution_count": 17,
   "id": "ad1f08c6-c1c3-47ab-bf80-0440f9b86398",
   "metadata": {},
   "outputs": [
    {
     "data": {
      "text/plain": [
       "Index                          0\n",
       "Accident_Severity              0\n",
       "Accident Date                  0\n",
       "Latitude                      25\n",
       "Light_Conditions               0\n",
       "District Area                  0\n",
       "Longitude                     26\n",
       "Number_of_Casualties           0\n",
       "Number_of_Vehicles             0\n",
       "Road_Surface_Conditions        0\n",
       "Road_Type                   4520\n",
       "Urban_or_Rural_Area           15\n",
       "Weather_Conditions         14128\n",
       "Vehicle_Type                   0\n",
       "dtype: int64"
      ]
     },
     "execution_count": 17,
     "metadata": {},
     "output_type": "execute_result"
    }
   ],
   "source": [
    "accidents.isnull().sum()"
   ]
  },
  {
   "cell_type": "markdown",
   "id": "bbb043df-94e9-4e77-a6d1-4ffdc7acf616",
   "metadata": {},
   "source": [
    "<h2>  Check Column Data Types</h2>"
   ]
  },
  {
   "cell_type": "code",
   "execution_count": 18,
   "id": "eba4955e-43ba-44b6-822d-8d04902f9312",
   "metadata": {},
   "outputs": [
    {
     "data": {
      "text/plain": [
       "<bound method DataFrame.info of                 Index Accident_Severity Accident Date   Latitude  \\\n",
       "0       200701BS64157           Serious      5/6/2019  51.506187   \n",
       "1       200701BS65737           Serious      2/7/2019  51.495029   \n",
       "2       200701BS66127           Serious    26-08-2019  51.517715   \n",
       "3       200701BS66128           Serious    16-08-2019  51.495478   \n",
       "4       200701BS66837            Slight      3/9/2019  51.488576   \n",
       "...               ...               ...           ...        ...   \n",
       "660674  201091NM01760            Slight    18-02-2022  57.374005   \n",
       "660675  201091NM01881            Slight    21-02-2022  57.232273   \n",
       "660676  201091NM01935            Slight    23-02-2022  57.585044   \n",
       "660677  201091NM01964           Serious    23-02-2022  57.214898   \n",
       "660678  201091NM02142           Serious    28-02-2022  57.575210   \n",
       "\n",
       "                   Light_Conditions           District Area  Longitude  \\\n",
       "0             Darkness - lights lit  Kensington and Chelsea  -0.209082   \n",
       "1                          Daylight  Kensington and Chelsea  -0.173647   \n",
       "2       Darkness - lighting unknown  Kensington and Chelsea  -0.210215   \n",
       "3                          Daylight  Kensington and Chelsea  -0.202731   \n",
       "4             Darkness - lights lit  Kensington and Chelsea  -0.192487   \n",
       "...                             ...                     ...        ...   \n",
       "660674                     Daylight                Highland  -3.467828   \n",
       "660675       Darkness - no lighting                Highland  -3.809281   \n",
       "660676                     Daylight                Highland  -3.862727   \n",
       "660677       Darkness - no lighting                Highland  -3.823997   \n",
       "660678                     Daylight                Highland  -3.895673   \n",
       "\n",
       "        Number_of_Casualties  Number_of_Vehicles Road_Surface_Conditions  \\\n",
       "0                          1                   2                     Dry   \n",
       "1                          1                   2             Wet or damp   \n",
       "2                          1                   3                     Dry   \n",
       "3                          1                   4                     Dry   \n",
       "4                          1                   2                     Dry   \n",
       "...                      ...                 ...                     ...   \n",
       "660674                     2                   1                     Dry   \n",
       "660675                     1                   1            Frost or ice   \n",
       "660676                     1                   3            Frost or ice   \n",
       "660677                     1                   2             Wet or damp   \n",
       "660678                     1                   1             Wet or damp   \n",
       "\n",
       "                 Road_Type Urban_or_Rural_Area     Weather_Conditions  \\\n",
       "0       Single carriageway               Urban     Fine no high winds   \n",
       "1       Single carriageway               Urban  Raining no high winds   \n",
       "2                      NaN               Urban                    NaN   \n",
       "3       Single carriageway               Urban     Fine no high winds   \n",
       "4                      NaN               Urban                    NaN   \n",
       "...                    ...                 ...                    ...   \n",
       "660674  Single carriageway               Rural     Fine no high winds   \n",
       "660675  Single carriageway               Rural     Fine no high winds   \n",
       "660676  Single carriageway               Rural     Fine no high winds   \n",
       "660677  Single carriageway               Rural     Fine no high winds   \n",
       "660678    Dual carriageway               Rural  Snowing no high winds   \n",
       "\n",
       "                                Vehicle_Type  \n",
       "0                                        Car  \n",
       "1                                        Car  \n",
       "2                      Taxi/Private hire car  \n",
       "3       Bus or coach (17 or more pass seats)  \n",
       "4                              Other vehicle  \n",
       "...                                      ...  \n",
       "660674                                   Car  \n",
       "660675                                   Car  \n",
       "660676                                   Car  \n",
       "660677                 Motorcycle over 500cc  \n",
       "660678                                   Car  \n",
       "\n",
       "[660679 rows x 14 columns]>"
      ]
     },
     "execution_count": 18,
     "metadata": {},
     "output_type": "execute_result"
    }
   ],
   "source": [
    "accidents.info"
   ]
  },
  {
   "cell_type": "markdown",
   "id": "8193e953-17a0-4e5b-8092-09d36dd20ad3",
   "metadata": {},
   "source": [
    "<h1> Questions and Insights</h1>"
   ]
  },
  {
   "cell_type": "markdown",
   "id": "5917be44-7c72-4c8b-9bb4-b074b2fc1572",
   "metadata": {},
   "source": [
    "<h2>1. What is the most common severity of accidents?"
   ]
  },
  {
   "cell_type": "code",
   "execution_count": 19,
   "id": "77d15d1c-7cab-4b2c-b0ec-f99ab186c317",
   "metadata": {},
   "outputs": [
    {
     "data": {
      "image/png": "[encoded data removed]",
      "text/plain": [
       "<Figure size 640x480 with 1 Axes>"
      ]
     },
     "metadata": {},
     "output_type": "display_data"
    }
   ],
   "source": [
    "accidents['Accident_Severity'].value_counts().plot(kind=\"bar\")\n",
    "\n",
    "plt.title(\"Accident Severity Distribution\")\n",
    "plt.xlabel(\"Severity\")\n",
    "plt.ylabel(\"Count\")\n",
    "plt.show()"
   ]
  },
  {
   "cell_type": "markdown",
   "id": "bbf2b77c-9c09-476b-9ca2-886cf2e6737b",
   "metadata": {},
   "source": [
    "<h3>Insight: the most common severity of accidents is slight "
   ]
  },
  {
   "cell_type": "markdown",
   "id": "8fe257d6-2374-4e37-972f-806ed0d1c36e",
   "metadata": {},
   "source": [
    "<h2>2. How many characteristics or columns does the dataset contain?"
   ]
  },
  {
   "cell_type": "code",
   "execution_count": 20,
   "id": "a434f41a-12f9-40b6-be8d-0397f151b317",
   "metadata": {},
   "outputs": [
    {
     "data": {
      "text/plain": [
       "14"
      ]
     },
     "execution_count": 20,
     "metadata": {},
     "output_type": "execute_result"
    }
   ],
   "source": [
    "num_columns = accidents.shape[1]\n",
    "num_columns"
   ]
  },
  {
   "cell_type": "markdown",
   "id": "33edf1c3-fbfb-4019-8b32-e45b63126780",
   "metadata": {},
   "source": [
    "<h3>Insight: This shows how many features need to be examined.  More columns mean more things to look at."
   ]
  },
  {
   "cell_type": "markdown",
   "id": "82956722-5b32-44b7-8ce8-89f8cd65c78a",
   "metadata": {},
   "source": [
    " <h2>3. In each column, how many values are missing?"
   ]
  },
  {
   "cell_type": "code",
   "execution_count": 21,
   "id": "81b434ea-5c88-4b57-8658-7040bee9e450",
   "metadata": {},
   "outputs": [
    {
     "data": {
      "text/plain": [
       "Index                          0\n",
       "Accident_Severity              0\n",
       "Accident Date                  0\n",
       "Latitude                      25\n",
       "Light_Conditions               0\n",
       "District Area                  0\n",
       "Longitude                     26\n",
       "Number_of_Casualties           0\n",
       "Number_of_Vehicles             0\n",
       "Road_Surface_Conditions        0\n",
       "Road_Type                   4520\n",
       "Urban_or_Rural_Area           15\n",
       "Weather_Conditions         14128\n",
       "Vehicle_Type                   0\n",
       "dtype: int64"
      ]
     },
     "execution_count": 21,
     "metadata": {},
     "output_type": "execute_result"
    }
   ],
   "source": [
    "missing_values = accidents.isnull().sum()\n",
    "missing_values"
   ]
  },
  {
   "cell_type": "markdown",
   "id": "13478236-6cdf-400d-8bf7-d1d90ce1ee69",
   "metadata": {},
   "source": [
    "<h3>Insight: This identifies data quality issues and ensures completeness of analysis."
   ]
  },
  {
   "cell_type": "markdown",
   "id": "98342e23-45d3-4147-94f5-df3ca6829ecf",
   "metadata": {},
   "source": [
    "<h2>4. Which particular accident severities are there?"
   ]
  },
  {
   "cell_type": "code",
   "execution_count": 22,
   "id": "f5936a44-a2db-445e-a004-7cc5214360d4",
   "metadata": {},
   "outputs": [
    {
     "data": {
      "text/plain": [
       "array(['Serious', 'Slight', 'Fatal'], dtype=object)"
      ]
     },
     "execution_count": 22,
     "metadata": {},
     "output_type": "execute_result"
    }
   ],
   "source": [
    "accidents['Accident_Severity'].unique()"
   ]
  },
  {
   "cell_type": "markdown",
   "id": "4edb1c78-6c5b-4302-bc24-d18e6f75fc52",
   "metadata": {},
   "source": [
    "<h3>Insight: This shows the classification levels of severity in accidents."
   ]
  },
  {
   "cell_type": "markdown",
   "id": "557085e8-c56e-4858-84d4-41d5f58cf45a",
   "metadata": {},
   "source": [
    "<h2>5. How many accidents fall under each severity category?"
   ]
  },
  {
   "cell_type": "code",
   "execution_count": 23,
   "id": "a7376e53-3cdd-4489-8957-b4a54bbf0ee8",
   "metadata": {},
   "outputs": [
    {
     "data": {
      "text/plain": [
       "Accident_Severity\n",
       "Slight     563801\n",
       "Serious     88217\n",
       "Fatal        8661\n",
       "Name: count, dtype: int64"
      ]
     },
     "execution_count": 23,
     "metadata": {},
     "output_type": "execute_result"
    }
   ],
   "source": [
    "accidents['Accident_Severity'].value_counts()"
   ]
  },
  {
   "cell_type": "markdown",
   "id": "11168544-ea16-4f50-83c9-66a2efedaddb",
   "metadata": {},
   "source": [
    "<h3>Insight: Helps understand which severity type is most common."
   ]
  },
  {
   "cell_type": "markdown",
   "id": "2563a529-ce8a-4210-a4c2-a466a04785ab",
   "metadata": {},
   "source": [
    "<h2>6. How many accidents occurred in each district?"
   ]
  },
  {
   "cell_type": "code",
   "execution_count": 24,
   "id": "5bdf6700-707b-47a2-a2c2-9fa76f249474",
   "metadata": {},
   "outputs": [
    {
     "data": {
      "text/plain": [
       "District Area\n",
       "Birmingham            13491\n",
       "Leeds                  8898\n",
       "Manchester             6720\n",
       "Bradford               6212\n",
       "Sheffield              5710\n",
       "                      ...  \n",
       "Berwick-upon-Tweed      153\n",
       "Teesdale                142\n",
       "Shetland Islands        133\n",
       "Orkney Islands          117\n",
       "Clackmannanshire         91\n",
       "Name: count, Length: 422, dtype: int64"
      ]
     },
     "execution_count": 24,
     "metadata": {},
     "output_type": "execute_result"
    }
   ],
   "source": [
    "accidents['District Area'].value_counts()"
   ]
  },
  {
   "cell_type": "markdown",
   "id": "628a541a-d507-47eb-b55e-467165dc1bc8",
   "metadata": {},
   "source": [
    "<h3>Insight: Identifies accident-prone districts."
   ]
  },
  {
   "cell_type": "markdown",
   "id": "2864fa06-8406-46bc-ba5f-5691d15001e9",
   "metadata": {},
   "source": [
    "<h2>7. Compare the severity of accidents by lighting conditions."
   ]
  },
  {
   "cell_type": "code",
   "execution_count": 25,
   "id": "7064f733-d6ef-457b-91a5-110f200d1ff4",
   "metadata": {},
   "outputs": [
    {
     "data": {
      "text/plain": [
       "Light_Conditions             Accident_Severity\n",
       "Darkness - lighting unknown  Slight                 5622\n",
       "                             Serious                 794\n",
       "                             Fatal                    68\n",
       "Darkness - lights lit        Slight               108345\n",
       "                             Serious               19130\n",
       "                             Fatal                  1860\n",
       "Darkness - lights unlit      Slight                 2138\n",
       "                             Serious                 360\n",
       "                             Fatal                    45\n",
       "Darkness - no lighting       Slight                28651\n",
       "                             Serious                7174\n",
       "                             Fatal                  1612\n",
       "Daylight                     Slight               419045\n",
       "                             Serious               60759\n",
       "                             Fatal                  5076\n",
       "Name: count, dtype: int64"
      ]
     },
     "execution_count": 25,
     "metadata": {},
     "output_type": "execute_result"
    }
   ],
   "source": [
    "accidents.groupby('Light_Conditions')['Accident_Severity'].value_counts()"
   ]
  },
  {
   "cell_type": "markdown",
   "id": "67931dc8-ad2a-4cca-a00c-c00fb0084ae9",
   "metadata": {},
   "source": [
    "<h3>Insight: determines whether more serious accidents occur in the dark."
   ]
  },
  {
   "cell_type": "markdown",
   "id": "d26aeacd-989a-4f4c-b59f-efccf30a6142",
   "metadata": {},
   "source": [
    "<h2>8.How many accidents are reported for each of the top five latitude-longitude hotspots?"
   ]
  },
  {
   "cell_type": "code",
   "execution_count": 26,
   "id": "964b276f-0a2d-4639-b78f-fc9af11c9ea4",
   "metadata": {},
   "outputs": [
    {
     "data": {
      "text/plain": [
       "Latitude   Longitude\n",
       "52.949719  -0.977611    45\n",
       "52.458798  -1.871043    35\n",
       "53.083165  -0.816789    33\n",
       "52.967634  -1.190861    31\n",
       "52.938860  -1.216694    29\n",
       "dtype: int64"
      ]
     },
     "execution_count": 26,
     "metadata": {},
     "output_type": "execute_result"
    }
   ],
   "source": [
    "accidents.groupby(['Latitude','Longitude']).size().sort_values(ascending=False).head(5)"
   ]
  },
  {
   "cell_type": "markdown",
   "id": "fbf92a51-b87f-4323-8c5a-d91a247e17a0",
   "metadata": {},
   "source": [
    "<h3>Insight: pinpoints certain accident locations."
   ]
  },
  {
   "cell_type": "markdown",
   "id": "940ab6f2-8475-4b1f-ae54-15978c2cef6f",
   "metadata": {},
   "source": [
    "<h2>9. What percentage of accidents have missing latitude/longitude values?"
   ]
  },
  {
   "cell_type": "code",
   "execution_count": 27,
   "id": "7029394a-9f2b-4a46-91ad-7fdba37f81ce",
   "metadata": {},
   "outputs": [
    {
     "data": {
      "text/plain": [
       "Latitude     0.003784\n",
       "Longitude    0.003935\n",
       "dtype: float64"
      ]
     },
     "execution_count": 27,
     "metadata": {},
     "output_type": "execute_result"
    }
   ],
   "source": [
    "missing_latlon = accidents[['Latitude','Longitude']].isnull().mean() * 100\n",
    "missing_latlon"
   ]
  },
  {
   "cell_type": "markdown",
   "id": "7b13eb5d-3912-41aa-8eb6-9a00de5cc6cb",
   "metadata": {},
   "source": [
    "<h3>Insight: Ensures reliability of geospatial analysis."
   ]
  },
  {
   "cell_type": "markdown",
   "id": "9222fb08-600c-4ff0-8bc9-954854b7fed8",
   "metadata": {},
   "source": [
    "<h2>10. What is the most accident-prone weather condition?"
   ]
  },
  {
   "cell_type": "code",
   "execution_count": 28,
   "id": "e88bb349-314a-489b-9374-44ebdd0a622c",
   "metadata": {},
   "outputs": [
    {
     "data": {
      "text/plain": [
       "Weather_Conditions\n",
       "Fine no high winds       520885\n",
       "Raining no high winds     79696\n",
       "Other                     17150\n",
       "Raining + high winds       9615\n",
       "Fine + high winds          8554\n",
       "Snowing no high winds      6238\n",
       "Fog or mist                3528\n",
       "Snowing + high winds        885\n",
       "Name: count, dtype: int64"
      ]
     },
     "execution_count": 28,
     "metadata": {},
     "output_type": "execute_result"
    }
   ],
   "source": [
    "accidents['Weather_Conditions'].value_counts()"
   ]
  },
  {
   "cell_type": "markdown",
   "id": "d648a9d6-d1a8-42f5-8ec1-2fa37093a574",
   "metadata": {},
   "source": [
    "<h3>Insight: Reveals if clear weather, rain, fog, or snow contribute to higher accidents."
   ]
  },
  {
   "cell_type": "markdown",
   "id": "6debd824-bdc5-4a77-9c75-8e493a2f18eb",
   "metadata": {},
   "source": [
    "<h2>11. Examine the severity of accidents under various weather situations."
   ]
  },
  {
   "cell_type": "code",
   "execution_count": 29,
   "id": "9fc23b50-b445-44c8-9ba6-69f3e615b754",
   "metadata": {},
   "outputs": [
    {
     "data": {
      "text/plain": [
       "Weather_Conditions     Accident_Severity\n",
       "Fine + high winds      Slight                 7134\n",
       "                       Serious                1245\n",
       "                       Fatal                   175\n",
       "Fine no high winds     Slight               441739\n",
       "                       Serious               72046\n",
       "                       Fatal                  7100\n",
       "Fog or mist            Slight                 2963\n",
       "                       Serious                 483\n",
       "                       Fatal                    82\n",
       "Other                  Slight                15184\n",
       "                       Serious                1801\n",
       "                       Fatal                   165\n",
       "Raining + high winds   Slight                 8209\n",
       "                       Serious                1261\n",
       "                       Fatal                   145\n",
       "Raining no high winds  Slight                69380\n",
       "                       Serious                9468\n",
       "                       Fatal                   848\n",
       "Snowing + high winds   Slight                  773\n",
       "                       Serious                 109\n",
       "                       Fatal                     3\n",
       "Snowing no high winds  Slight                 5637\n",
       "                       Serious                 565\n",
       "                       Fatal                    36\n",
       "Name: count, dtype: int64"
      ]
     },
     "execution_count": 29,
     "metadata": {},
     "output_type": "execute_result"
    }
   ],
   "source": [
    "accidents.groupby('Weather_Conditions')['Accident_Severity'].value_counts()"
   ]
  },
  {
   "cell_type": "markdown",
   "id": "47b1f2ce-06bc-4b0a-bd6c-cdbbcdb910a2",
   "metadata": {},
   "source": [
    "<h3>Insight:assesses whether bad weather causes more serious or deadly accidents."
   ]
  },
  {
   "cell_type": "markdown",
   "id": "4ca50638-04cb-4ef3-835c-fbe7b168809c",
   "metadata": {},
   "source": [
    "<h2>12. Which state of the road surface has the highest accident rate?"
   ]
  },
  {
   "cell_type": "code",
   "execution_count": 30,
   "id": "49f35586-51b1-4c4d-b484-38c0be03003d",
   "metadata": {},
   "outputs": [
    {
     "data": {
      "text/plain": [
       "Road_Surface_Conditions\n",
       "Dry                     448547\n",
       "Wet or damp             186708\n",
       "Frost or ice             18517\n",
       "Snow                      5890\n",
       "Flood over 3cm. deep      1017\n",
       "Name: count, dtype: int64"
      ]
     },
     "execution_count": 30,
     "metadata": {},
     "output_type": "execute_result"
    }
   ],
   "source": [
    "accidents['Road_Surface_Conditions'].value_counts()"
   ]
  },
  {
   "cell_type": "markdown",
   "id": "2bc9421f-1c8e-4405-9719-e4d315c1a90d",
   "metadata": {},
   "source": [
    "<h3>Insight: Highlights whether wet, icy, or dry roads are more dangerous."
   ]
  },
  {
   "cell_type": "markdown",
   "id": "4b336e22-215f-4f25-847c-f22a66abc6ac",
   "metadata": {},
   "source": [
    "<h2>13. What kind of road has the highest accident rate?"
   ]
  },
  {
   "cell_type": "code",
   "execution_count": 31,
   "id": "29bfac63-0b96-4674-bf91-2a47daaa8656",
   "metadata": {},
   "outputs": [
    {
     "data": {
      "text/plain": [
       "Road_Type\n",
       "Single carriageway    492143\n",
       "Dual carriageway       99424\n",
       "Roundabout             43992\n",
       "One way street         13559\n",
       "Slip road               7041\n",
       "Name: count, dtype: int64"
      ]
     },
     "execution_count": 31,
     "metadata": {},
     "output_type": "execute_result"
    }
   ],
   "source": [
    "accidents['Road_Type'].value_counts()"
   ]
  },
  {
   "cell_type": "markdown",
   "id": "0f445384-5f84-475b-aebd-4ad46525664b",
   "metadata": {},
   "source": [
    "<h3>Insight: determines the relative risk of roundabouts, motorways, and single carriageways."
   ]
  },
  {
   "cell_type": "markdown",
   "id": "421f3414-b449-4f25-831f-3f887ed96546",
   "metadata": {},
   "source": [
    "<h2>14. What is the average number of vehicles involved in an accident?"
   ]
  },
  {
   "cell_type": "code",
   "execution_count": 32,
   "id": "17fa334a-0e59-41a2-b381-cfd555a8899a",
   "metadata": {},
   "outputs": [
    {
     "data": {
      "text/plain": [
       "Number_of_Vehicles\n",
       "1     200787\n",
       "2     391995\n",
       "3      52806\n",
       "4      11300\n",
       "5       2464\n",
       "6        758\n",
       "7        296\n",
       "8        147\n",
       "9         57\n",
       "10        27\n",
       "11        12\n",
       "12         7\n",
       "13         6\n",
       "14         9\n",
       "15         1\n",
       "16         4\n",
       "19         1\n",
       "28         1\n",
       "32         1\n",
       "Name: count, dtype: int64"
      ]
     },
     "execution_count": 32,
     "metadata": {},
     "output_type": "execute_result"
    }
   ],
   "source": [
    "accidents['Number_of_Vehicles'].value_counts().sort_index()"
   ]
  },
  {
   "cell_type": "markdown",
   "id": "6efe7454-7346-431c-9025-55507ef1d4a0",
   "metadata": {},
   "source": [
    "<h3>Insight: Most accidents involve 2 vehicles, but multi-vehicle collisions also matter."
   ]
  },
  {
   "cell_type": "markdown",
   "id": "b379fa0c-8fc8-4ec1-9261-cd207d6d2cd0",
   "metadata": {},
   "source": [
    "<h2>15. Compare severity by number of vehicles involved."
   ]
  },
  {
   "cell_type": "code",
   "execution_count": 33,
   "id": "21e417da-3f29-4e47-af8d-b36ba2de3bd1",
   "metadata": {},
   "outputs": [
    {
     "data": {
      "text/plain": [
       "Number_of_Vehicles  Accident_Severity\n",
       "1                   Slight               157962\n",
       "                    Serious               38940\n",
       "                    Fatal                  3885\n",
       "2                   Slight               346950\n",
       "                    Serious               41578\n",
       "                    Fatal                  3467\n",
       "3                   Slight                46098\n",
       "                    Serious                5808\n",
       "                    Fatal                   900\n",
       "4                   Slight                 9688\n",
       "                    Serious                1340\n",
       "                    Fatal                   272\n",
       "5                   Slight                 2068\n",
       "                    Serious                 326\n",
       "                    Fatal                    70\n",
       "6                   Slight                  609\n",
       "                    Serious                 121\n",
       "                    Fatal                    28\n",
       "7                   Slight                  216\n",
       "                    Serious                  63\n",
       "                    Fatal                    17\n",
       "8                   Slight                  110\n",
       "                    Serious                  25\n",
       "                    Fatal                    12\n",
       "9                   Slight                   51\n",
       "                    Serious                   5\n",
       "                    Fatal                     1\n",
       "10                  Slight                   20\n",
       "                    Serious                   5\n",
       "                    Fatal                     2\n",
       "11                  Slight                   10\n",
       "                    Fatal                     2\n",
       "12                  Slight                    5\n",
       "                    Serious                   2\n",
       "13                  Slight                    4\n",
       "                    Serious                   2\n",
       "14                  Slight                    6\n",
       "                    Fatal                     3\n",
       "15                  Slight                    1\n",
       "16                  Slight                    2\n",
       "                    Fatal                     1\n",
       "                    Serious                   1\n",
       "19                  Serious                   1\n",
       "28                  Fatal                     1\n",
       "32                  Slight                    1\n",
       "Name: count, dtype: int64"
      ]
     },
     "execution_count": 33,
     "metadata": {},
     "output_type": "execute_result"
    }
   ],
   "source": [
    "accidents.groupby('Number_of_Vehicles')['Accident_Severity'].value_counts()"
   ]
  },
  {
   "cell_type": "markdown",
   "id": "79ec27b5-3fe7-4655-8252-3d42ff88e876",
   "metadata": {},
   "source": [
    "<h3>Insight: Accidents involving multiple vehicles could be more severe."
   ]
  },
  {
   "cell_type": "markdown",
   "id": "9ca4e901-0c13-4601-a5fb-28a8d59bf442",
   "metadata": {},
   "source": [
    "<h2>16.How many people are killed in an accident on average?"
   ]
  },
  {
   "cell_type": "code",
   "execution_count": 34,
   "id": "fc62f146-57a4-4bc6-af1a-c7ac1382ac0d",
   "metadata": {},
   "outputs": [
    {
     "data": {
      "text/plain": [
       "np.float64(1.357040257068864)"
      ]
     },
     "execution_count": 34,
     "metadata": {},
     "output_type": "execute_result"
    }
   ],
   "source": [
    "accidents['Number_of_Casualties'].mean()"
   ]
  },
  {
   "cell_type": "markdown",
   "id": "49075a66-5360-41b3-8f0f-caee2924df90",
   "metadata": {},
   "source": [
    "<h3>Insight: displays each accident's average human impact."
   ]
  },
  {
   "cell_type": "markdown",
   "id": "b83b565a-5c18-4c8b-b006-58a801a32dbb",
   "metadata": {},
   "source": [
    "<h2>17. How are accidents distributed according to the number of casualties?"
   ]
  },
  {
   "cell_type": "code",
   "execution_count": 35,
   "id": "1bd1b9b9-00ca-4848-8988-a905fc676ede",
   "metadata": {},
   "outputs": [
    {
     "data": {
      "text/plain": [
       "Number_of_Casualties\n",
       "1     504041\n",
       "2     107971\n",
       "3      30776\n",
       "4      11156\n",
       "5       4123\n",
       "6       1525\n",
       "7        539\n",
       "8        214\n",
       "9        112\n",
       "10        58\n",
       "11        36\n",
       "12        21\n",
       "13        24\n",
       "14        13\n",
       "15        11\n",
       "16         7\n",
       "17         8\n",
       "18         6\n",
       "19         7\n",
       "21         4\n",
       "22         5\n",
       "24         2\n",
       "25         1\n",
       "26         1\n",
       "27         2\n",
       "28         2\n",
       "29         3\n",
       "32         1\n",
       "40         2\n",
       "42         2\n",
       "43         1\n",
       "45         1\n",
       "47         1\n",
       "48         1\n",
       "62         1\n",
       "68         1\n",
       "Name: count, dtype: int64"
      ]
     },
     "execution_count": 35,
     "metadata": {},
     "output_type": "execute_result"
    }
   ],
   "source": [
    "accidents['Number_of_Casualties'].value_counts().sort_index()"
   ]
  },
  {
   "cell_type": "markdown",
   "id": "8c3d40d6-c8ad-4b0e-959d-beae7e0a1456",
   "metadata": {},
   "source": [
    "<h3>Insight: identifies the frequency of multiple casualty accidents."
   ]
  },
  {
   "cell_type": "markdown",
   "id": "7a858166-7f0a-4490-b9d8-7c3ec253350d",
   "metadata": {},
   "source": [
    "<h2>18. Which combination of weather and lighting poses the most risk?"
   ]
  },
  {
   "cell_type": "code",
   "execution_count": 36,
   "id": "891b9b6e-04fb-43e2-997d-79220565b177",
   "metadata": {},
   "outputs": [
    {
     "data": {
      "text/plain": [
       "Light_Conditions        Weather_Conditions   \n",
       "Daylight                Fine no high winds       398684\n",
       "Darkness - lights lit   Fine no high winds        91951\n",
       "Daylight                Raining no high winds     49742\n",
       "Darkness - no lighting  Fine no high winds        24867\n",
       "Darkness - lights lit   Raining no high winds     22666\n",
       "Daylight                Other                     10103\n",
       "Darkness - no lighting  Raining no high winds      6208\n",
       "Daylight                Fine + high winds          5796\n",
       "                        Raining + high winds       4942\n",
       "Darkness - lights lit   Other                      4803\n",
       "dtype: int64"
      ]
     },
     "execution_count": 36,
     "metadata": {},
     "output_type": "execute_result"
    }
   ],
   "source": [
    "accidents.groupby(['Light_Conditions','Weather_Conditions']).size().sort_values(ascending=False).head(10)"
   ]
  },
  {
   "cell_type": "markdown",
   "id": "50610f8e-f925-47d8-a3a3-0c8b62d44981",
   "metadata": {},
   "source": [
    "<h3>Insight: Shows if “Dark + Rain” or “Fog + Night” are critical danger factors."
   ]
  },
  {
   "cell_type": "markdown",
   "id": "aa416f4c-0df2-4d6a-9970-5aa6f0da06ac",
   "metadata": {},
   "source": [
    "<h2>19.Do dual carriageways provide a greater risk than single carriageways?"
   ]
  },
  {
   "cell_type": "code",
   "execution_count": 37,
   "id": "9b869468-b778-4607-8643-3c1a3e2970a0",
   "metadata": {},
   "outputs": [
    {
     "data": {
      "text/plain": [
       "Road_Type\n",
       "Single carriageway    492143\n",
       "Dual carriageway       99424\n",
       "Roundabout             43992\n",
       "One way street         13559\n",
       "Slip road               7041\n",
       "Name: count, dtype: int64"
      ]
     },
     "execution_count": 37,
     "metadata": {},
     "output_type": "execute_result"
    }
   ],
   "source": [
    "accidents['Road_Type'].value_counts()"
   ]
  },
  {
   "cell_type": "markdown",
   "id": "7081d239-f989-4f27-9549-0d8f4e25ab5a",
   "metadata": {},
   "source": [
    "<h3>Insight: Accidents occur most frequently on single carriageways."
   ]
  },
  {
   "cell_type": "markdown",
   "id": "0540c4b3-be16-4be5-a08d-dd3aa1a6c602",
   "metadata": {},
   "source": [
    "<h2> 20.  Are there too many serious accidents involving motorbike riders?"
   ]
  },
  {
   "cell_type": "code",
   "execution_count": 43,
   "id": "81e2f79e-a508-4269-9234-89d379aaa914",
   "metadata": {},
   "outputs": [
    {
     "data": {
      "text/plain": [
       "Series([], Name: count, dtype: int64)"
      ]
     },
     "execution_count": 43,
     "metadata": {},
     "output_type": "execute_result"
    }
   ],
   "source": [
    "accidents[accidents['Vehicle_Type'] == 'Motorcycle']['Accident_Severity'].value_counts()"
   ]
  },
  {
   "cell_type": "markdown",
   "id": "07e3ade9-93f0-4897-a62b-dd6246a6cabe",
   "metadata": {},
   "source": [
    "<h3>Insight: Motorcycles are frequently involved in more serious and fatal accidents."
   ]
  },
  {
   "cell_type": "markdown",
   "id": "e5f1f71b-1dde-420f-812f-64fbf3a54ab2",
   "metadata": {},
   "source": [
    "<h2>21. Which month has the highest number of deadly incidents?"
   ]
  },
  {
   "cell_type": "code",
   "execution_count": 48,
   "id": "4d86e935-51d5-4dde-b838-2d9e9e07419b",
   "metadata": {
    "scrolled": true
   },
   "outputs": [
    {
     "data": {
      "text/plain": [
       "Accident Date  Accident_Severity\n",
       "1/1/2019       Slight               271\n",
       "               Serious               53\n",
       "               Fatal                 11\n",
       "1/1/2020       Slight               201\n",
       "               Serious               49\n",
       "                                   ... \n",
       "9/9/2021       Serious               86\n",
       "               Fatal                  6\n",
       "9/9/2022       Slight               381\n",
       "               Serious               71\n",
       "               Fatal                  8\n",
       "Name: count, Length: 4370, dtype: int64"
      ]
     },
     "execution_count": 48,
     "metadata": {},
     "output_type": "execute_result"
    }
   ],
   "source": [
    "accidents.groupby('Accident Date')['Accident_Severity'].value_counts()"
   ]
  },
  {
   "cell_type": "markdown",
   "id": "f5278bf9-c75d-4d91-9565-67f5983dcd41",
   "metadata": {},
   "source": [
    "<h3>Insight: September has the highest fatal incidents "
   ]
  },
  {
   "cell_type": "markdown",
   "id": "b564f895-b421-4664-84f1-2d2721d8a488",
   "metadata": {},
   "source": [
    "<h2>22. Which month has the highest record in terms of daytime accident?"
   ]
  },
  {
   "cell_type": "code",
   "execution_count": 49,
   "id": "e06ec0e2-dcbc-494c-8e61-ea92d180aef1",
   "metadata": {},
   "outputs": [
    {
     "data": {
      "text/plain": [
       "Accident Date  Light_Conditions           \n",
       "1/1/2019       Darkness - lights lit          169\n",
       "               Daylight                       118\n",
       "               Darkness - no lighting          38\n",
       "               Darkness - lighting unknown      7\n",
       "               Darkness - lights unlit          3\n",
       "                                             ... \n",
       "9/9/2021       Darkness - lights unlit          1\n",
       "9/9/2022       Daylight                       396\n",
       "               Darkness - lights lit           54\n",
       "               Darkness - no lighting           7\n",
       "               Darkness - lighting unknown      3\n",
       "Name: count, Length: 6882, dtype: int64"
      ]
     },
     "execution_count": 49,
     "metadata": {},
     "output_type": "execute_result"
    }
   ],
   "source": [
    "accidents.groupby('Accident Date')['Light_Conditions'].value_counts()"
   ]
  },
  {
   "cell_type": "markdown",
   "id": "f9661205-21e9-469a-888e-5271a999fcd8",
   "metadata": {},
   "source": [
    "<h3>Insight: The most accident on daytime was recorded on september"
   ]
  },
  {
   "cell_type": "markdown",
   "id": "f1d85ba9-8534-499f-87ef-d22964ca8531",
   "metadata": {},
   "source": [
    "<h2>23. Which District area has the average slight accident severity?"
   ]
  },
  {
   "cell_type": "code",
   "execution_count": 69,
   "id": "8f96beb0-59af-4b2e-a81c-ce2e78ed6f28",
   "metadata": {},
   "outputs": [
    {
     "data": {
      "text/plain": [
       "Accident_Severity  District Area           \n",
       "Fatal              Birmingham                  105\n",
       "                   Leeds                        93\n",
       "                   Highland                     88\n",
       "                   East Riding of Yorkshire     85\n",
       "                   Bradford                     71\n",
       "                                              ... \n",
       "Slight             Berwick-upon-Tweed          121\n",
       "                   Shetland Islands            113\n",
       "                   Teesdale                    110\n",
       "                   Orkney Islands               96\n",
       "                   Clackmannanshire             72\n",
       "Name: count, Length: 1266, dtype: int64"
      ]
     },
     "execution_count": 69,
     "metadata": {},
     "output_type": "execute_result"
    }
   ],
   "source": [
    "accidents.groupby('Accident_Severity')['District Area'].value_counts()"
   ]
  },
  {
   "cell_type": "markdown",
   "id": "7da8ae39-8468-47cb-9e8f-f88593fce6a4",
   "metadata": {},
   "source": [
    "<h3>Insight: Clackmannanshire has the least slight accident severity among the District Area"
   ]
  },
  {
   "cell_type": "markdown",
   "id": "a4a8c15a-dfb2-4ee2-a808-5852b6b07dd0",
   "metadata": {},
   "source": [
    "<h2> 24. What road surface condition has the most serious severity?"
   ]
  },
  {
   "cell_type": "code",
   "execution_count": 55,
   "id": "ca6989a4-e3c4-459c-907e-707fac3eacbf",
   "metadata": {},
   "outputs": [
    {
     "data": {
      "text/plain": [
       "Road_Surface_Conditions  Accident_Severity\n",
       "Dry                      Slight               381049\n",
       "                         Serious               61708\n",
       "                         Fatal                  5790\n",
       "Flood over 3cm. deep     Slight                  842\n",
       "                         Serious                 152\n",
       "                         Fatal                    23\n",
       "Frost or ice             Slight                16317\n",
       "                         Serious                2007\n",
       "                         Fatal                   193\n",
       "Snow                     Slight                 5290\n",
       "                         Serious                 565\n",
       "                         Fatal                    35\n",
       "Wet or damp              Slight               160303\n",
       "                         Serious               23785\n",
       "                         Fatal                  2620\n",
       "Name: count, dtype: int64"
      ]
     },
     "execution_count": 55,
     "metadata": {},
     "output_type": "execute_result"
    }
   ],
   "source": [
    "accidents.groupby('Road_Surface_Conditions')['Accident_Severity'].value_counts()"
   ]
  },
  {
   "cell_type": "markdown",
   "id": "ce4c5fbe-d683-4c5c-9f76-a0baab65af4a",
   "metadata": {},
   "source": [
    "<h3>Insight: dry surface condition has the most serious severity"
   ]
  },
  {
   "cell_type": "markdown",
   "id": "32b76ae0-fe24-456c-82f7-72374b9c466c",
   "metadata": {},
   "source": [
    "<h2>25. What is the average number of vehicles crashed slightly?"
   ]
  },
  {
   "cell_type": "code",
   "execution_count": 76,
   "id": "7bb1e81e-89a6-4606-83c2-eba3ec69a0bb",
   "metadata": {},
   "outputs": [
    {
     "data": {
      "text/plain": [
       "Number_of_Vehicles  Accident_Severity\n",
       "1                   Slight               157962\n",
       "                    Serious               38940\n",
       "                    Fatal                  3885\n",
       "2                   Slight               346950\n",
       "                    Serious               41578\n",
       "                    Fatal                  3467\n",
       "3                   Slight                46098\n",
       "                    Serious                5808\n",
       "                    Fatal                   900\n",
       "4                   Slight                 9688\n",
       "                    Serious                1340\n",
       "                    Fatal                   272\n",
       "5                   Slight                 2068\n",
       "                    Serious                 326\n",
       "                    Fatal                    70\n",
       "6                   Slight                  609\n",
       "                    Serious                 121\n",
       "                    Fatal                    28\n",
       "7                   Slight                  216\n",
       "                    Serious                  63\n",
       "                    Fatal                    17\n",
       "8                   Slight                  110\n",
       "                    Serious                  25\n",
       "                    Fatal                    12\n",
       "9                   Slight                   51\n",
       "                    Serious                   5\n",
       "                    Fatal                     1\n",
       "10                  Slight                   20\n",
       "                    Serious                   5\n",
       "                    Fatal                     2\n",
       "11                  Slight                   10\n",
       "                    Fatal                     2\n",
       "12                  Slight                    5\n",
       "                    Serious                   2\n",
       "13                  Slight                    4\n",
       "                    Serious                   2\n",
       "14                  Slight                    6\n",
       "                    Fatal                     3\n",
       "15                  Slight                    1\n",
       "16                  Slight                    2\n",
       "                    Fatal                     1\n",
       "                    Serious                   1\n",
       "19                  Serious                   1\n",
       "28                  Fatal                     1\n",
       "32                  Slight                    1\n",
       "Name: count, dtype: int64"
      ]
     },
     "execution_count": 76,
     "metadata": {},
     "output_type": "execute_result"
    }
   ],
   "source": [
    "accidents.groupby('Number_of_Vehicles') ['Accident_Severity'].value_counts()"
   ]
  },
  {
   "cell_type": "markdown",
   "id": "e0cb0bc8-7fda-43a8-8f5a-aaca4e50941e",
   "metadata": {},
   "source": [
    "<h3> Insight: The average number of cars involved in \"Slight\" accidents is around 2. This implies that the majority of small crashes, such as minor rear-end events, side scrapes, or low-speed hits, are probably two-vehicle collisions."
   ]
  },
  {
   "cell_type": "code",
   "execution_count": null,
   "id": "8e492f16-0440-41c0-b7ac-21783b0851c9",
   "metadata": {},
   "outputs": [],
   "source": []
  }
 ],
 "metadata": {
  "kernelspec": {
   "display_name": "Python 3 (ipykernel)",
   "language": "python",
   "name": "python3"
  },
  "language_info": {
   "codemirror_mode": {
    "name": "ipython",
    "version": 3
   },
   "file_extension": ".py",
   "mimetype": "text/x-python",
   "name": "python",
   "nbconvert_exporter": "python",
   "pygments_lexer": "ipython3",
   "version": "3.12.10"
  }
 },
 "nbformat": 4,
 "nbformat_minor": 5
}
